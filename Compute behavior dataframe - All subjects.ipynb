{
 "cells": [
  {
   "cell_type": "markdown",
   "metadata": {},
   "source": [
    "# Compute a dataframe containing all behavior for each subject\n",
    "\n",
    "* How it works\n",
    "    #finger0_deriv = np.abs(np.diff(finger0))\n",
    "    #thresh = 50\n",
    "    #is_moving_finger0 = finger0_deriv > thresh\n",
    "    #move_samples_finger0 = np.argwhere(is_moving==1).transpose()[0]\n",
    "    #move_samples_diff_finger0 = np.diff(move_samples_finger0)"
   ]
  },
  {
   "cell_type": "markdown",
   "metadata": {},
   "source": [
    "# Imports"
   ]
  },
  {
   "cell_type": "code",
   "execution_count": 1,
   "metadata": {
    "collapsed": true
   },
   "outputs": [],
   "source": [
    "from __future__ import print_function\n",
    "%config InlineBackend.figure_format = 'retina'\n",
    "%matplotlib inline\n",
    "\n",
    "import numpy as np\n",
    "import scipy as sp\n",
    "import matplotlib.pyplot as plt\n",
    "import os\n",
    "import glob\n",
    "import pandas as pd"
   ]
  },
  {
   "cell_type": "markdown",
   "metadata": {},
   "source": [
    "# Useful functions"
   ]
  },
  {
   "cell_type": "code",
   "execution_count": 2,
   "metadata": {
    "collapsed": false
   },
   "outputs": [],
   "source": [
    "# Find start and end times of movement\n",
    "def fingerStartEnd (finger, thresh = 50, time_thresh = 1000):\n",
    "    all_start_samps = []\n",
    "    all_end_samps = []\n",
    "\n",
    "    finger_deriv = np.abs(np.diff(finger))\n",
    "    is_moving = finger_deriv > thresh\n",
    "    move_samples = np.argwhere(is_moving==1).transpose()[0]\n",
    "    move_samples_diff = np.diff(move_samples)\n",
    "\n",
    "    all_start_samps.append(move_samples[0])\n",
    "\n",
    "    N_samps = len(move_samples)\n",
    "    for i in range(1,N_samps):\n",
    "        if move_samples_diff[i-1] > time_thresh:\n",
    "            all_start_samps.append(move_samples[i])\n",
    "            all_end_samps.append(move_samples[i-1])\n",
    "    all_end_samps.append(move_samples[-1])\n",
    "    return np.array(all_start_samps), np.array(all_end_samps)"
   ]
  },
  {
   "cell_type": "code",
   "execution_count": 3,
   "metadata": {
    "collapsed": false
   },
   "outputs": [],
   "source": [
    "# Delete movements unrelated to local cue\n",
    "def deleteStartEnd(fingers,interval):\n",
    "    for k in range(5):\n",
    "        for i, j in zip(fingers['start'][k],fingers['end'][k]):\n",
    "            if (j-i<interval):\n",
    "                fingers['start'][k].remove(i)\n",
    "                fingers['end'][k].remove(j)"
   ]
  },
  {
   "cell_type": "markdown",
   "metadata": {},
   "source": [
    "# Load data"
   ]
  },
  {
   "cell_type": "code",
   "execution_count": 4,
   "metadata": {
    "collapsed": false
   },
   "outputs": [],
   "source": [
    "subj_name = 2\n",
    "data_dir = 'C:/data2/dg'\n",
    "subjects = glob.glob(data_dir+'/*')\n",
    "all_subjects = []\n",
    "all_subj_fingers={}\n",
    "all_cues={}\n",
    "all_cues_diff={}\n",
    "\n",
    "plot = False\n",
    "\n",
    "# Get all subject files\n",
    "for sub in subjects:\n",
    "    # Get \n",
    "    if len(sub) == len(data_dir)+1+subj_name:\n",
    "        file_name = sub[-subj_name:]\n",
    "        all_subjects.append(file_name)\n",
    "\n",
    "# Load cue for each subject and find start/stop times\n",
    "for subjcode in all_subjects:\n",
    "    \n",
    "    cue = np.load(data_dir+'/'+subjcode+'/cue.npy')\n",
    "    all_cues_diff[subjcode]=np.diff(cue)\n",
    "    \n",
    "    # Compute finger start and stop times\n",
    "    all_subj_fingers[subjcode]={'start':{},'end':{}}\n",
    "    raw_finger=[]\n",
    "    for i in range(5):\n",
    "        finger = np.load(data_dir+'/'+subjcode+'/finger'+str(i)+'.npy')\n",
    "        raw_finger.append(finger)\n",
    "        \n",
    "        all_subj_fingers[subjcode]['start'][i],all_subj_fingers[subjcode]['end'][i]=fingerStartEnd(finger)\n",
    "    \n",
    "    if plot:\n",
    "        all_cues[subjcode]={'start':{},'end':{}}\n",
    "        for index in range(5):\n",
    "            all_cues[subjcode]['start'][index] = np.where(xx==index+1)[0]\n",
    "            all_cues[subjcode]['end'][index] = np.where(xx==-index-1)[0]\n",
    "\n",
    "        plt.figure(figsize=(16,8))\n",
    "\n",
    "        f, sub = plt.subplots(5, sharex=True,figsize=(16,8))\n",
    "        for k in range(5):\n",
    "            sub[k].plot(raw_finger[k])\n",
    "\n",
    "            for start,end in zip(all_subj_fingers[subjcode]['start'][k],all_subj_fingers[subjcode]['end'][k]):\n",
    "                sub[k].axvline(x=start, ymin=0, ymax = 3000, linewidth=2, color='k')\n",
    "                sub[k].axvline(x=end, ymin=0, ymax = 3000, linewidth=2, color='r', alpha=0.5)\n",
    "            for cueS, cueE in zip(all_cues[subjcode]['start'][k],all_cues[subjcode]['end'][k]):\n",
    "                sub[k].axvline(x=cueS, ymin=0, ymax = 3000, linewidth=2, color='g')\n",
    "                sub[k].axvline(x=cueE, ymin=0, ymax = 3000, linewidth=2, color='y')\n",
    "            plt.xlim(0,50000)\n"
   ]
  },
  {
   "cell_type": "markdown",
   "metadata": {
    "collapsed": true
   },
   "source": [
    "# Structure behavioral data into Pandas dataframe\n",
    "\n",
    "* Loop through each cue_start (each trial)\n",
    "* For each cue_start also find:\n",
    "    * cue_end\n",
    "    * finger\n",
    "    * move start\n",
    "    * move end\n",
    "    * delay start\n",
    "    * delay end\n",
    "    * duration move\n",
    "    \n",
    "each column as a key in a dictionary"
   ]
  },
  {
   "cell_type": "code",
   "execution_count": 6,
   "metadata": {
    "collapsed": false
   },
   "outputs": [],
   "source": [
    "def generateDataFrame(cue_diff,fingers, subj):\n",
    "    data_frame={}\n",
    "\n",
    "    #Find cue start and end for each trial\n",
    "    data_frame['cue_start']=np.where(cue_diff>0)[0]\n",
    "    data_frame['cue_end']=np.where(cue_diff<0)[0]\n",
    "    \n",
    "    if subj == 'jp':\n",
    "        data_frame['cue_end'] = np.delete(data_frame['cue_end'],0)\n",
    "    elif subj == 'wm':\n",
    "        data_frame['cue_start'] = np.delete(data_frame['cue_start'],-1)\n",
    "\n",
    "    #Find corresponding fingers for each trial\n",
    "    data_frame['finger'] = np.array(cue_diff[data_frame['cue_start']])\n",
    "    \n",
    "    data_frame['move_start'] = []\n",
    "    data_frame['move_end'] = []\n",
    "    for i in data_frame['cue_start']:\n",
    "        if sum(fingers['start'][cue_diff[i]-1]>i) >= 1:\n",
    "            data_frame['move_start'].append(fingers['start'][cue_diff[i]-1][fingers['start'][cue_diff[i]-1]>i][0])\n",
    "        else:\n",
    "            data_frame['move_start'].append(np.nan)\n",
    "    for i in data_frame['cue_end']:\n",
    "        if sum(fingers['end'][abs(cue_diff[i])-1]>i) >= 1:\n",
    "            data_frame['move_end'].append(fingers['end'][abs(cue_diff[i])-1][fingers['end'][abs(cue_diff[i])-1]>i][0])\n",
    "        else:\n",
    "            data_frame['move_end'].append(np.nan)\n",
    "    data_frame['move_start'] =  np.array(data_frame['move_start'])\n",
    "    data_frame['move_end'] = np.array(data_frame['move_end'])    \n",
    "    data_frame['delay_start']=data_frame['move_start']-data_frame['cue_start']\n",
    "    data_frame['delay_end']=data_frame['move_end']-data_frame['cue_end']\n",
    "    data_frame['duration']=data_frame['move_end']-data_frame['move_start']\n",
    "    return data_frame"
   ]
  },
  {
   "cell_type": "code",
   "execution_count": 25,
   "metadata": {
    "collapsed": false
   },
   "outputs": [],
   "source": [
    "dfs = []\n",
    "for i in all_cues_diff.keys():\n",
    "    data_frame=generateDataFrame(all_cues_diff[i],all_subj_fingers[i], i)\n",
    "    dfs.append(pd.DataFrame.from_dict(data_frame))\n",
    "    dfs[-1]['subject'] = i"
   ]
  },
  {
   "cell_type": "code",
   "execution_count": 33,
   "metadata": {
    "collapsed": false
   },
   "outputs": [
    {
     "data": {
      "text/html": [
       "<div>\n",
       "<table border=\"1\" class=\"dataframe\">\n",
       "  <thead>\n",
       "    <tr style=\"text-align: right;\">\n",
       "      <th></th>\n",
       "      <th>cue_end</th>\n",
       "      <th>cue_start</th>\n",
       "      <th>delay_end</th>\n",
       "      <th>delay_start</th>\n",
       "      <th>duration</th>\n",
       "      <th>finger</th>\n",
       "      <th>move_end</th>\n",
       "      <th>move_start</th>\n",
       "      <th>subject</th>\n",
       "    </tr>\n",
       "  </thead>\n",
       "  <tbody>\n",
       "    <tr>\n",
       "      <th>1095</th>\n",
       "      <td>569079</td>\n",
       "      <td>567079</td>\n",
       "      <td>2560.0</td>\n",
       "      <td>17160.0</td>\n",
       "      <td>-12600.0</td>\n",
       "      <td>5.0</td>\n",
       "      <td>571639.0</td>\n",
       "      <td>584239.0</td>\n",
       "      <td>zt</td>\n",
       "    </tr>\n",
       "    <tr>\n",
       "      <th>1096</th>\n",
       "      <td>573079</td>\n",
       "      <td>571079</td>\n",
       "      <td>4520.0</td>\n",
       "      <td>1680.0</td>\n",
       "      <td>4840.0</td>\n",
       "      <td>3.0</td>\n",
       "      <td>577599.0</td>\n",
       "      <td>572759.0</td>\n",
       "      <td>zt</td>\n",
       "    </tr>\n",
       "    <tr>\n",
       "      <th>1097</th>\n",
       "      <td>577079</td>\n",
       "      <td>575079</td>\n",
       "      <td>10480.0</td>\n",
       "      <td>80.0</td>\n",
       "      <td>12400.0</td>\n",
       "      <td>4.0</td>\n",
       "      <td>587559.0</td>\n",
       "      <td>575159.0</td>\n",
       "      <td>zt</td>\n",
       "    </tr>\n",
       "    <tr>\n",
       "      <th>1098</th>\n",
       "      <td>581079</td>\n",
       "      <td>579079</td>\n",
       "      <td>2800.0</td>\n",
       "      <td>1240.0</td>\n",
       "      <td>3560.0</td>\n",
       "      <td>2.0</td>\n",
       "      <td>583879.0</td>\n",
       "      <td>580319.0</td>\n",
       "      <td>zt</td>\n",
       "    </tr>\n",
       "    <tr>\n",
       "      <th>1099</th>\n",
       "      <td>585079</td>\n",
       "      <td>583079</td>\n",
       "      <td>2640.0</td>\n",
       "      <td>1160.0</td>\n",
       "      <td>3480.0</td>\n",
       "      <td>5.0</td>\n",
       "      <td>587719.0</td>\n",
       "      <td>584239.0</td>\n",
       "      <td>zt</td>\n",
       "    </tr>\n",
       "    <tr>\n",
       "      <th>1100</th>\n",
       "      <td>589079</td>\n",
       "      <td>587079</td>\n",
       "      <td>6480.0</td>\n",
       "      <td>1040.0</td>\n",
       "      <td>7440.0</td>\n",
       "      <td>2.0</td>\n",
       "      <td>595559.0</td>\n",
       "      <td>588119.0</td>\n",
       "      <td>zt</td>\n",
       "    </tr>\n",
       "    <tr>\n",
       "      <th>1101</th>\n",
       "      <td>593079</td>\n",
       "      <td>591079</td>\n",
       "      <td>2480.0</td>\n",
       "      <td>9040.0</td>\n",
       "      <td>-4560.0</td>\n",
       "      <td>2.0</td>\n",
       "      <td>595559.0</td>\n",
       "      <td>600119.0</td>\n",
       "      <td>zt</td>\n",
       "    </tr>\n",
       "    <tr>\n",
       "      <th>1102</th>\n",
       "      <td>597079</td>\n",
       "      <td>595079</td>\n",
       "      <td>1400.0</td>\n",
       "      <td>1040.0</td>\n",
       "      <td>2360.0</td>\n",
       "      <td>1.0</td>\n",
       "      <td>598479.0</td>\n",
       "      <td>596119.0</td>\n",
       "      <td>zt</td>\n",
       "    </tr>\n",
       "    <tr>\n",
       "      <th>1103</th>\n",
       "      <td>601079</td>\n",
       "      <td>599079</td>\n",
       "      <td>1640.0</td>\n",
       "      <td>880.0</td>\n",
       "      <td>2760.0</td>\n",
       "      <td>4.0</td>\n",
       "      <td>602719.0</td>\n",
       "      <td>599959.0</td>\n",
       "      <td>zt</td>\n",
       "    </tr>\n",
       "    <tr>\n",
       "      <th>1104</th>\n",
       "      <td>605079</td>\n",
       "      <td>603079</td>\n",
       "      <td>1680.0</td>\n",
       "      <td>920.0</td>\n",
       "      <td>2760.0</td>\n",
       "      <td>1.0</td>\n",
       "      <td>606759.0</td>\n",
       "      <td>603999.0</td>\n",
       "      <td>zt</td>\n",
       "    </tr>\n",
       "  </tbody>\n",
       "</table>\n",
       "</div>"
      ],
      "text/plain": [
       "      cue_end  cue_start  delay_end  delay_start  duration  finger  move_end  \\\n",
       "1095   569079     567079     2560.0      17160.0  -12600.0     5.0  571639.0   \n",
       "1096   573079     571079     4520.0       1680.0    4840.0     3.0  577599.0   \n",
       "1097   577079     575079    10480.0         80.0   12400.0     4.0  587559.0   \n",
       "1098   581079     579079     2800.0       1240.0    3560.0     2.0  583879.0   \n",
       "1099   585079     583079     2640.0       1160.0    3480.0     5.0  587719.0   \n",
       "1100   589079     587079     6480.0       1040.0    7440.0     2.0  595559.0   \n",
       "1101   593079     591079     2480.0       9040.0   -4560.0     2.0  595559.0   \n",
       "1102   597079     595079     1400.0       1040.0    2360.0     1.0  598479.0   \n",
       "1103   601079     599079     1640.0        880.0    2760.0     4.0  602719.0   \n",
       "1104   605079     603079     1680.0        920.0    2760.0     1.0  606759.0   \n",
       "\n",
       "      move_start subject  \n",
       "1095    584239.0      zt  \n",
       "1096    572759.0      zt  \n",
       "1097    575159.0      zt  \n",
       "1098    580319.0      zt  \n",
       "1099    584239.0      zt  \n",
       "1100    588119.0      zt  \n",
       "1101    600119.0      zt  \n",
       "1102    596119.0      zt  \n",
       "1103    599959.0      zt  \n",
       "1104    603999.0      zt  "
      ]
     },
     "execution_count": 33,
     "metadata": {},
     "output_type": "execute_result"
    }
   ],
   "source": [
    "df = pd.concat(dfs)\n",
    "df = df.reset_index(drop=True)\n",
    "df.to_csv('./behavior_all.csv')\n",
    "df.tail(10)"
   ]
  },
  {
   "cell_type": "markdown",
   "metadata": {},
   "source": [
    "# Plot histograms of finger delays"
   ]
  },
  {
   "cell_type": "code",
   "execution_count": null,
   "metadata": {
    "collapsed": true
   },
   "outputs": [],
   "source": []
  },
  {
   "cell_type": "code",
   "execution_count": null,
   "metadata": {
    "collapsed": true
   },
   "outputs": [],
   "source": [
    "plt.figure(figsize=(16,4))\n",
    "print(delayStart)\n",
    "print(delayEnd)\n",
    "\n",
    "finger_names = ['thumb','pointer','middle','ring','pinky']\n",
    "\n",
    "colorArr=['r','k','b','g','y']\n",
    "for i in range(5):\n",
    "    plt.subplot(1,5,i+1)\n",
    "    plt.title(finger_names[i])\n",
    "    plt.hist(delayStart[i],bins=np.arange(0,2000,120),color='r',alpha=.5,label='finger start'+str(i))\n",
    "    plt.hist(delayEnd[i],bins=np.arange(0,2000,120),color='k', alpha=.5,label='finger end'+str(i))\n",
    "plt.legend(loc='best')"
   ]
  }
 ],
 "metadata": {
  "kernelspec": {
   "display_name": "Python 3",
   "language": "python",
   "name": "python3"
  },
  "language_info": {
   "codemirror_mode": {
    "name": "ipython",
    "version": 3
   },
   "file_extension": ".py",
   "mimetype": "text/x-python",
   "name": "python",
   "nbconvert_exporter": "python",
   "pygments_lexer": "ipython3",
   "version": "3.6.0"
  }
 },
 "nbformat": 4,
 "nbformat_minor": 1
}
