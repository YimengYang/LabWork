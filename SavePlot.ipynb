{
 "cells": [
  {
   "cell_type": "code",
   "execution_count": 22,
   "metadata": {
    "collapsed": true
   },
   "outputs": [],
   "source": [
    "#Load data, calculate PSD and save the plots"
   ]
  },
  {
   "cell_type": "code",
   "execution_count": 23,
   "metadata": {
    "collapsed": false
   },
   "outputs": [],
   "source": [
    "from __future__ import print_function\n",
    "%config InlineBackend.figure_format = 'retina'\n",
    "%matplotlib inline\n",
    "\n",
    "import numpy as np\n",
    "import scipy as sp\n",
    "import matplotlib.pyplot as plt\n",
    "\n",
    "import seaborn as sns\n",
    "sns.set_style('white')\n",
    "import sys\n",
    "sys.path.append(\"C:/Users/user/Desktop/ipynb/misshapen/\")\n",
    "sys.path.append(\"C:/Users/user/Desktop/ipynb/\")\n",
    "import misshapen\n",
    "import nonshape\n",
    "import shape\n",
    "\n",
    "import os\n",
    "from numpy import genfromtxt\n"
   ]
  },
  {
   "cell_type": "code",
   "execution_count": 24,
   "metadata": {
    "collapsed": false
   },
   "outputs": [],
   "source": [
    "import glob\n",
    "# Define data of interest\n",
    "data_dir = 'E:/data2/dg/'\n",
    "image_dir = data_dir+'/psd_plot'\n",
    "subj_name = 2\n",
    "subjects = glob.glob(data_dir+'/*')\n",
    "all_subjects = []\n",
    "\n",
    "for sub in subjects:\n",
    "    if len(sub) == len(data_dir)+subj_name:\n",
    "        file_name = sub[-subj_name:]\n",
    "        all_subjects.append(file_name)\n",
    "\n",
    "\n",
    "Fs = 1000\n",
    "region = [1,3,4,6,7,8,9]\n",
    "\n",
    "if not os.path.exists(data_dir+\"/psd_plot\"):\n",
    "    os.makedirs(data_dir+\"/psd_plot\")\n",
    "# Determine file name\n",
    "\n",
    "\n",
    "# Loop through all subj\n",
    "for subj in all_subjects:\n",
    "    for r in region:\n",
    "        if os.path.exists(data_dir+subj+'/'+str(r)+'/'):\n",
    "            ecog_files = glob.glob(data_dir+subj+'/'+str(r)+'/*')\n",
    "            files_num = np.arange(len(ecog_files))\n",
    "            if len(files_num) <= 8:\n",
    "                fig = plt.figure(figsize=(16,8))\n",
    "            else:\n",
    "                fig = plt.figure(figsize=(16,len(files_num)))\n",
    "\n",
    "            for i in files_num:\n",
    "                if len(ecog_files)<3:\n",
    "                    subF = fig.add_subplot(len(files_num), 1, (i+1))\n",
    "                else:\n",
    "                    subF = fig.add_subplot(len(files_num)/2+1, 2, (i+1))\n",
    "                # Load data\n",
    "                x = np.load(ecog_files[i])\n",
    "                f, psd = nonshape.f_psd(x, Fs, 'welch',welch_params={'nperseg': 10000, 'window': 'hanning', 'noverlap': None})\n",
    "                # Plot psd\n",
    "                flim = (0,100)\n",
    "        \n",
    "                subF.semilogy(f[np.logical_and(f>=flim[0],f<flim[1])],psd[np.logical_and(f>=flim[0],f<flim[1])],'k')\n",
    "                subF.set_xlabel('frequency (hz)')\n",
    "                subF.set_ylabel('power (uV^2/Hz)')\n",
    "        \n",
    "            fig.tight_layout()\n",
    "            if r == 1:\n",
    "                fig.suptitle('dorsal M1', fontsize = 20)\n",
    "            elif r == 3:\n",
    "                fig.suptitle('dorsal S1', fontsize = 20)\n",
    "            elif r == 4:\n",
    "                fig.suptitle('ventral sensorimotor (M1+S1)', fontsize = 20)\n",
    "            elif r == 6:\n",
    "                fig.suptitle('frontal (non-rolandic)', fontsize = 20)\n",
    "            elif r == 7:\n",
    "                fig.suptitle('parietal (non-rolandic)', fontsize = 20)\n",
    "            elif r == 8:\n",
    "                fig.suptitle('temporal', fontsize = 20)\n",
    "            elif r == 9:\n",
    "                fig.suptitle('occipital', fontsize = 20)\n",
    "            fig.subplots_adjust(top=0.9)\n",
    "            fig.savefig(image_dir+ \"/\"+subj+\"_\"+str(r)+\".png\")\n",
    "            plt.close()\n",
    "\n"
   ]
  },
  {
   "cell_type": "code",
   "execution_count": null,
   "metadata": {
    "collapsed": false
   },
   "outputs": [],
   "source": []
  },
  {
   "cell_type": "code",
   "execution_count": null,
   "metadata": {
    "collapsed": false
   },
   "outputs": [],
   "source": [
    "\n",
    "\n"
   ]
  },
  {
   "cell_type": "code",
   "execution_count": null,
   "metadata": {
    "collapsed": false
   },
   "outputs": [],
   "source": []
  },
  {
   "cell_type": "code",
   "execution_count": null,
   "metadata": {
    "collapsed": true
   },
   "outputs": [],
   "source": []
  }
 ],
 "metadata": {
  "anaconda-cloud": {},
  "kernelspec": {
   "display_name": "Python 3",
   "language": "python",
   "name": "python3"
  },
  "language_info": {
   "codemirror_mode": {
    "name": "ipython",
    "version": 3
   },
   "file_extension": ".py",
   "mimetype": "text/x-python",
   "name": "python",
   "nbconvert_exporter": "python",
   "pygments_lexer": "ipython3",
   "version": "3.6.0"
  }
 },
 "nbformat": 4,
 "nbformat_minor": 1
}
