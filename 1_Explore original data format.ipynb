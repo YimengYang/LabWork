{
 "cells": [
  {
   "cell_type": "markdown",
   "metadata": {},
   "source": [
    "# Finger flexion data from Kai Miller\n",
    "\n",
    "* Data from: https://exhibits.stanford.edu/data/catalog/zk881ps0522, I believe dataset 4, 'dg.zip'\n",
    "* Refer to the README.pdf in that folder for more info\n",
    "* .csv data from Aashish Patel in Vikash Gilja's lab\n",
    "\n",
    "\n",
    "Notes\n",
    "* 1 subject of data takes a while to load and process.\n",
    "* Need to notch filter line noise and apply a strong lowpass at 200Hz\n",
    "* Need to epoch (maybe just compare timestamps of extrema to the cue and movement"
   ]
  },
  {
   "cell_type": "code",
   "execution_count": 1,
   "metadata": {
    "collapsed": false
   },
   "outputs": [],
   "source": [
    "from __future__ import print_function\n",
    "%config InlineBackend.figure_format = 'retina'\n",
    "%matplotlib inline\n",
    "\n",
    "import numpy as np\n",
    "import scipy as sp\n",
    "import matplotlib.pyplot as plt\n",
    "\n",
    "import seaborn as sns\n",
    "sns.set_style('white')"
   ]
  },
  {
   "cell_type": "markdown",
   "metadata": {},
   "source": [
    "# Load 1 subject of data\n",
    "* ecog\n",
    "* electrode regions\n",
    "* finger flexion\n",
    "* cue"
   ]
  },
  {
   "cell_type": "code",
   "execution_count": 2,
   "metadata": {
    "collapsed": false
   },
   "outputs": [
    {
     "ename": "OSError",
     "evalue": "C:/gh/data/kaidigit/csv/cc_ecog.csv not found.",
     "output_type": "error",
     "traceback": [
      "\u001b[0;31m---------------------------------------------------------------------------\u001b[0m",
      "\u001b[0;31mOSError\u001b[0m                                   Traceback (most recent call last)",
      "\u001b[0;32m<ipython-input-2-43ca74d49969>\u001b[0m in \u001b[0;36m<module>\u001b[0;34m()\u001b[0m\n\u001b[1;32m      2\u001b[0m \u001b[1;32mfrom\u001b[0m \u001b[0mnumpy\u001b[0m \u001b[1;32mimport\u001b[0m \u001b[0mgenfromtxt\u001b[0m\u001b[1;33m\u001b[0m\u001b[0m\n\u001b[1;32m      3\u001b[0m \u001b[0msubject_id\u001b[0m \u001b[1;33m=\u001b[0m \u001b[1;34m'cc'\u001b[0m\u001b[1;33m\u001b[0m\u001b[0m\n\u001b[0;32m----> 4\u001b[0;31m \u001b[0mecog\u001b[0m \u001b[1;33m=\u001b[0m \u001b[0mgenfromtxt\u001b[0m\u001b[1;33m(\u001b[0m\u001b[1;34m'C:/gh/data/kaidigit/csv/'\u001b[0m\u001b[1;33m+\u001b[0m\u001b[0msubject_id\u001b[0m\u001b[1;33m+\u001b[0m\u001b[1;34m'_ecog.csv'\u001b[0m\u001b[1;33m,\u001b[0m \u001b[0mdelimiter\u001b[0m\u001b[1;33m=\u001b[0m\u001b[1;34m','\u001b[0m\u001b[1;33m)\u001b[0m\u001b[1;33m\u001b[0m\u001b[0m\n\u001b[0m",
      "\u001b[0;32mF:\\Program Files\\新建文件夹\\lib\\site-packages\\numpy\\lib\\npyio.py\u001b[0m in \u001b[0;36mgenfromtxt\u001b[0;34m(fname, dtype, comments, delimiter, skip_header, skip_footer, converters, missing_values, filling_values, usecols, names, excludelist, deletechars, replace_space, autostrip, case_sensitive, defaultfmt, unpack, usemask, loose, invalid_raise, max_rows)\u001b[0m\n\u001b[1;32m   1451\u001b[0m                 \u001b[0mfhd\u001b[0m \u001b[1;33m=\u001b[0m \u001b[0miter\u001b[0m\u001b[1;33m(\u001b[0m\u001b[0mnp\u001b[0m\u001b[1;33m.\u001b[0m\u001b[0mlib\u001b[0m\u001b[1;33m.\u001b[0m\u001b[0m_datasource\u001b[0m\u001b[1;33m.\u001b[0m\u001b[0mopen\u001b[0m\u001b[1;33m(\u001b[0m\u001b[0mfname\u001b[0m\u001b[1;33m,\u001b[0m \u001b[1;34m'rbU'\u001b[0m\u001b[1;33m)\u001b[0m\u001b[1;33m)\u001b[0m\u001b[1;33m\u001b[0m\u001b[0m\n\u001b[1;32m   1452\u001b[0m             \u001b[1;32melse\u001b[0m\u001b[1;33m:\u001b[0m\u001b[1;33m\u001b[0m\u001b[0m\n\u001b[0;32m-> 1453\u001b[0;31m                 \u001b[0mfhd\u001b[0m \u001b[1;33m=\u001b[0m \u001b[0miter\u001b[0m\u001b[1;33m(\u001b[0m\u001b[0mnp\u001b[0m\u001b[1;33m.\u001b[0m\u001b[0mlib\u001b[0m\u001b[1;33m.\u001b[0m\u001b[0m_datasource\u001b[0m\u001b[1;33m.\u001b[0m\u001b[0mopen\u001b[0m\u001b[1;33m(\u001b[0m\u001b[0mfname\u001b[0m\u001b[1;33m,\u001b[0m \u001b[1;34m'rb'\u001b[0m\u001b[1;33m)\u001b[0m\u001b[1;33m)\u001b[0m\u001b[1;33m\u001b[0m\u001b[0m\n\u001b[0m\u001b[1;32m   1454\u001b[0m             \u001b[0mown_fhd\u001b[0m \u001b[1;33m=\u001b[0m \u001b[1;32mTrue\u001b[0m\u001b[1;33m\u001b[0m\u001b[0m\n\u001b[1;32m   1455\u001b[0m         \u001b[1;32melse\u001b[0m\u001b[1;33m:\u001b[0m\u001b[1;33m\u001b[0m\u001b[0m\n",
      "\u001b[0;32mF:\\Program Files\\新建文件夹\\lib\\site-packages\\numpy\\lib\\_datasource.py\u001b[0m in \u001b[0;36mopen\u001b[0;34m(path, mode, destpath)\u001b[0m\n\u001b[1;32m    149\u001b[0m \u001b[1;33m\u001b[0m\u001b[0m\n\u001b[1;32m    150\u001b[0m     \u001b[0mds\u001b[0m \u001b[1;33m=\u001b[0m \u001b[0mDataSource\u001b[0m\u001b[1;33m(\u001b[0m\u001b[0mdestpath\u001b[0m\u001b[1;33m)\u001b[0m\u001b[1;33m\u001b[0m\u001b[0m\n\u001b[0;32m--> 151\u001b[0;31m     \u001b[1;32mreturn\u001b[0m \u001b[0mds\u001b[0m\u001b[1;33m.\u001b[0m\u001b[0mopen\u001b[0m\u001b[1;33m(\u001b[0m\u001b[0mpath\u001b[0m\u001b[1;33m,\u001b[0m \u001b[0mmode\u001b[0m\u001b[1;33m)\u001b[0m\u001b[1;33m\u001b[0m\u001b[0m\n\u001b[0m\u001b[1;32m    152\u001b[0m \u001b[1;33m\u001b[0m\u001b[0m\n\u001b[1;32m    153\u001b[0m \u001b[1;33m\u001b[0m\u001b[0m\n",
      "\u001b[0;32mF:\\Program Files\\新建文件夹\\lib\\site-packages\\numpy\\lib\\_datasource.py\u001b[0m in \u001b[0;36mopen\u001b[0;34m(self, path, mode)\u001b[0m\n\u001b[1;32m    499\u001b[0m             \u001b[1;32mreturn\u001b[0m \u001b[0m_file_openers\u001b[0m\u001b[1;33m[\u001b[0m\u001b[0mext\u001b[0m\u001b[1;33m]\u001b[0m\u001b[1;33m(\u001b[0m\u001b[0mfound\u001b[0m\u001b[1;33m,\u001b[0m \u001b[0mmode\u001b[0m\u001b[1;33m=\u001b[0m\u001b[0mmode\u001b[0m\u001b[1;33m)\u001b[0m\u001b[1;33m\u001b[0m\u001b[0m\n\u001b[1;32m    500\u001b[0m         \u001b[1;32melse\u001b[0m\u001b[1;33m:\u001b[0m\u001b[1;33m\u001b[0m\u001b[0m\n\u001b[0;32m--> 501\u001b[0;31m             \u001b[1;32mraise\u001b[0m \u001b[0mIOError\u001b[0m\u001b[1;33m(\u001b[0m\u001b[1;34m\"%s not found.\"\u001b[0m \u001b[1;33m%\u001b[0m \u001b[0mpath\u001b[0m\u001b[1;33m)\u001b[0m\u001b[1;33m\u001b[0m\u001b[0m\n\u001b[0m\u001b[1;32m    502\u001b[0m \u001b[1;33m\u001b[0m\u001b[0m\n\u001b[1;32m    503\u001b[0m \u001b[1;33m\u001b[0m\u001b[0m\n",
      "\u001b[0;31mOSError\u001b[0m: C:/gh/data/kaidigit/csv/cc_ecog.csv not found."
     ]
    }
   ],
   "source": [
    "# Load ecog data\n",
    "from numpy import genfromtxt\n",
    "subject_id = 'cc'\n",
    "ecog = genfromtxt('C:/gh/data/kaidigit/csv/'+subject_id+'_ecog.csv', delimiter=',')"
   ]
  },
  {
   "cell_type": "code",
   "execution_count": null,
   "metadata": {
    "collapsed": false
   },
   "outputs": [],
   "source": [
    "# Only keep first 2 channels of ecog\n",
    "ecog = ecog[:2]"
   ]
  },
  {
   "cell_type": "code",
   "execution_count": null,
   "metadata": {
    "collapsed": false,
    "scrolled": true
   },
   "outputs": [],
   "source": [
    "# Load electrode locations\n",
    "elec_regions = genfromtxt('C:/gh/data/kaidigit/csv/'+subject_id+'_elecregions.csv', delimiter=',')\n",
    "region_dict = {'dorsal M1':1, 'dorsal S1':3, 'ventral M1 S1':4, 'frontal':6,\n",
    "               'parietal':7,'temporal':8,'occipital':9}"
   ]
  },
  {
   "cell_type": "code",
   "execution_count": null,
   "metadata": {
    "collapsed": true
   },
   "outputs": [],
   "source": [
    "# Load finger data\n",
    "data_finger = genfromtxt('C:/gh/data/kaidigit/csv/'+subject_id+'_dataglove.csv', delimiter=',')"
   ]
  },
  {
   "cell_type": "code",
   "execution_count": null,
   "metadata": {
    "collapsed": true
   },
   "outputs": [],
   "source": [
    "finger_labels = ['thumb', 'index', 'middle', 'ring', 'pinky']"
   ]
  },
  {
   "cell_type": "code",
   "execution_count": null,
   "metadata": {
    "collapsed": false
   },
   "outputs": [],
   "source": [
    "# Load cue data\n",
    "data_cue = genfromtxt('C:/gh/data/kaidigit/csv/'+subject_id+'_cue.csv', delimiter=',')"
   ]
  },
  {
   "cell_type": "code",
   "execution_count": null,
   "metadata": {
    "collapsed": true
   },
   "outputs": [],
   "source": [
    "cue_labels = ['rest', 'thumb', 'index', 'middle', 'ring', 'pinky']"
   ]
  },
  {
   "cell_type": "code",
   "execution_count": null,
   "metadata": {
    "collapsed": false
   },
   "outputs": [],
   "source": [
    "# Define time series (Fs = 1000Hz)\n",
    "Fs = 1000.\n",
    "N_samples = len(ecog[0])\n",
    "t_max = N_samples/float(Fs)\n",
    "t = np.arange(0,t_max,1/float(Fs))"
   ]
  },
  {
   "cell_type": "code",
   "execution_count": null,
   "metadata": {
    "collapsed": false
   },
   "outputs": [],
   "source": [
    "elec_regions"
   ]
  },
  {
   "cell_type": "markdown",
   "metadata": {},
   "source": [
    "# Plot time series"
   ]
  },
  {
   "cell_type": "code",
   "execution_count": null,
   "metadata": {
    "collapsed": false
   },
   "outputs": [],
   "source": [
    "e1 = 0\n",
    "t_lim = (5,7)\n",
    "t_plt1 = t[np.logical_and(t>=t_lim[0], t<t_lim[1])]\n",
    "x_plt1 = ecog[0][np.logical_and(t>=t_lim[0], t<t_lim[1])]\n",
    "t_plt2 = t[np.logical_and(t>=t_lim[0], t<t_lim[1])]\n",
    "x_plt2 = ecog[1][np.logical_and(t>=t_lim[0], t<t_lim[1])]\n",
    "\n",
    "plt.figure(figsize=(8,2))\n",
    "plt.plot(t_plt1,x_plt1*.0298,'k')\n",
    "plt.plot(t_plt2,x_plt2*.0298,'b')\n",
    "plt.xlabel('Time (s)')\n",
    "plt.ylabel('Voltage (uV)')"
   ]
  },
  {
   "cell_type": "markdown",
   "metadata": {},
   "source": [
    "# Plot power spectrum"
   ]
  },
  {
   "cell_type": "code",
   "execution_count": null,
   "metadata": {
    "collapsed": false
   },
   "outputs": [],
   "source": [
    "# Calculate PSD\n",
    "from misshapen import nonshape\n",
    "f, psd = nonshape.f_psd(ecog[e1], Fs, 'welch',welch_params={'nperseg': 10000, 'window': 'hanning', 'noverlap': None})\n",
    "f2, psd2 = nonshape.f_psd(ecog[1], Fs, 'welch',welch_params={'nperseg': 10000, 'window': 'hanning', 'noverlap': None})"
   ]
  },
  {
   "cell_type": "code",
   "execution_count": null,
   "metadata": {
    "collapsed": false
   },
   "outputs": [],
   "source": [
    "# Plot psd\n",
    "flim = (0,10)\n",
    "plt.figure(figsize=(8,4))\n",
    "plt.semilogy(f[np.logical_and(f>=flim[0],f<flim[1])],psd[np.logical_and(f>=flim[0],f<flim[1])],'k')"
   ]
  },
  {
   "cell_type": "code",
   "execution_count": null,
   "metadata": {
    "collapsed": false
   },
   "outputs": [],
   "source": [
    "# Calculate PSD\n",
    "from misshapen import nonshape\n",
    "x_psd = ecog[1]\n",
    "f, psd = nonshape.f_psd(x_psd, Fs, 'welch',welch_params={'nperseg': 10000, 'window': 'hanning', 'noverlap': None})\n",
    "# Plot psd\n",
    "flim = (0,10)\n",
    "plt.figure(figsize=(8,4))\n",
    "plt.semilogy(f[np.logical_and(f>=flim[0],f<flim[1])],psd[np.logical_and(f>=flim[0],f<flim[1])],'k')"
   ]
  },
  {
   "cell_type": "code",
   "execution_count": null,
   "metadata": {
    "collapsed": false
   },
   "outputs": [],
   "source": [
    "elec_regions"
   ]
  },
  {
   "cell_type": "markdown",
   "metadata": {},
   "source": [
    "# Plot finger and cue data"
   ]
  },
  {
   "cell_type": "code",
   "execution_count": null,
   "metadata": {
    "collapsed": false
   },
   "outputs": [],
   "source": [
    "t_lim = (30,40)\n",
    "t_plt = t[np.logical_and(t>=t_lim[0], t<t_lim[1])]\n",
    "cue_plt = data_cue[np.logical_and(t>=t_lim[0], t<t_lim[1])]\n",
    "fingers_plt = data_finger[:,np.logical_and(t>=t_lim[0], t<t_lim[1])]\n",
    "\n",
    "plt.figure(figsize=(8,4))\n",
    "plt.subplot(2,1,1)\n",
    "plt.plot(t_plt,cue_plt,'k')\n",
    "plt.ylim((-.5,5.5))\n",
    "plt.ylabel('Cue')\n",
    "plt.subplot(2,1,2)\n",
    "plt.plot(t_plt,fingers_plt[0],'k',label=finger_labels[0])\n",
    "plt.plot(t_plt,fingers_plt[1],'b',label=finger_labels[1])\n",
    "plt.plot(t_plt,fingers_plt[2],'r',label=finger_labels[2])\n",
    "plt.plot(t_plt,fingers_plt[3],'g',label=finger_labels[3])\n",
    "plt.plot(t_plt,fingers_plt[4],'y',label=finger_labels[4])\n",
    "plt.xlabel('Time (s)')\n",
    "plt.ylabel('Finger flexion')\n",
    "plt.legend(loc='best')"
   ]
  },
  {
   "cell_type": "code",
   "execution_count": null,
   "metadata": {
    "collapsed": true
   },
   "outputs": [],
   "source": []
  }
 ],
 "metadata": {
  "anaconda-cloud": {},
  "kernelspec": {
   "display_name": "Python [default]",
   "language": "python",
   "name": "python3"
  },
  "language_info": {
   "codemirror_mode": {
    "name": "ipython",
    "version": 3
   },
   "file_extension": ".py",
   "mimetype": "text/x-python",
   "name": "python",
   "nbconvert_exporter": "python",
   "pygments_lexer": "ipython3",
   "version": "3.5.2"
  }
 },
 "nbformat": 4,
 "nbformat_minor": 1
}
