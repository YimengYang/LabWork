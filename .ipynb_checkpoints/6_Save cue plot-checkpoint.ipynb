{
 "cells": [
  {
   "cell_type": "markdown",
   "metadata": {},
   "source": [
    "# Save plots for cues - all subjects"
   ]
  },
  {
   "cell_type": "code",
   "execution_count": 15,
   "metadata": {
    "collapsed": true
   },
   "outputs": [],
   "source": [
    "from __future__ import print_function\n",
    "%config InlineBackend.figure_format = 'retina'\n",
    "%matplotlib inline\n",
    "\n",
    "import numpy as np\n",
    "import scipy as sp\n",
    "import matplotlib.pyplot as plt\n",
    "import os"
   ]
  },
  {
   "cell_type": "code",
   "execution_count": 16,
   "metadata": {
    "collapsed": false
   },
   "outputs": [],
   "source": [
    "import glob\n",
    "# Define data of interest\n",
    "data_dir = 'E:/data2/dg/'\n",
    "image_dir = data_dir+'/cue_plot'\n",
    "subj_name = 2\n",
    "subjects = glob.glob(data_dir+'/*')\n",
    "all_subjects = []\n",
    "\n",
    "if not os.path.exists(data_dir+\"/cue_plot\"):\n",
    "    os.makedirs(data_dir+\"/cue_plot\")\n",
    "\n",
    "for sub in subjects:\n",
    "    if len(sub) == len(data_dir)+subj_name:\n",
    "        file_name = sub[-subj_name:]\n",
    "        all_subjects.append(file_name)\n",
    "        \n"
   ]
  },
  {
   "cell_type": "code",
   "execution_count": 17,
   "metadata": {
    "collapsed": false
   },
   "outputs": [],
   "source": [
    "for i in all_subjects:\n",
    "    cue = np.load('E:/data2/dg/'+i+'/cue.npy')\n",
    "    finger0 = np.load('E:/data2/dg/'+i+'/finger0.npy')\n",
    "    finger1 = np.load('E:/data2/dg/'+i+'/finger1.npy')\n",
    "    finger2 = np.load('E:/data2/dg/'+i+'/finger2.npy')\n",
    "    finger3 = np.load('E:/data2/dg/'+i+'/finger3.npy')\n",
    "    finger4 = np.load('E:/data2/dg/'+i+'/finger4.npy')\n",
    "\n",
    "    plt.figure(figsize=(8,4))\n",
    "    plt.subplot(2,1,1)\n",
    "    plt.plot(cue[:70000])\n",
    "    plt.ylim((-.5,5.5))\n",
    "    plt.subplot(2,1,2)\n",
    "    plt.plot(finger0[:70000])\n",
    "    plt.plot(finger1[:70000])\n",
    "    plt.plot(finger2[:70000])\n",
    "    plt.plot(finger3[:70000])\n",
    "    plt.plot(finger4[:70000])\n",
    "    plt.savefig(image_dir+ \"/\"+i+\"_cue.png\")\n",
    "    plt.close()\n",
    "    "
   ]
  },
  {
   "cell_type": "code",
   "execution_count": null,
   "metadata": {
    "collapsed": true
   },
   "outputs": [],
   "source": []
  }
 ],
 "metadata": {
  "kernelspec": {
   "display_name": "Python 3",
   "language": "python",
   "name": "python3"
  },
  "language_info": {
   "codemirror_mode": {
    "name": "ipython",
    "version": 3
   },
   "file_extension": ".py",
   "mimetype": "text/x-python",
   "name": "python",
   "nbconvert_exporter": "python",
   "pygments_lexer": "ipython3",
   "version": "3.6.0"
  }
 },
 "nbformat": 4,
 "nbformat_minor": 1
}
