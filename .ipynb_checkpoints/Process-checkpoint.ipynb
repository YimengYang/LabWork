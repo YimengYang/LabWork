{
 "cells": [
  {
   "cell_type": "markdown",
   "metadata": {},
   "source": [
    "# Process functions"
   ]
  },
  {
   "cell_type": "code",
   "execution_count": 1,
   "metadata": {
    "collapsed": true
   },
   "outputs": [],
   "source": [
    "def preprocess_filters(x):\n",
    "    x_nonoise = nonshape.notch_default(x, 60, 2, Fs)\n",
    "    x_nonoise1=nonshape.notch_default(x_nonoise,120,2,Fs)\n",
    "    x_nonoise2=nonshape.notch_default(x_nonoise1,180,2,Fs)\n",
    "\n",
    "    x_nonoise3=nonshape.lowpass_default(x_nonoise2,Fs,200,500)\n",
    "    x_nonoise4=nonshape.highpass_default(x_nonoise3,Fs,0.5,2001)\n",
    "    x_filt,_=nonshape.bandpass_default(x_nonoise4,(13,30),Fs,rmv_edge=False)\n",
    "    return x_nonoise4"
   ]
  },
  {
   "cell_type": "code",
   "execution_count": null,
   "metadata": {
    "collapsed": true
   },
   "outputs": [],
   "source": [
    "def amp_by_trial(x_filt, F_range, Fs, samp_lims, trial_starts):\n",
    "    beta_amp = np.abs(sp.signal.hilbert(x_filt))\n",
    "    \n",
    "    N_trials = len(trial_starts)\n",
    "    N_samps = samp_lim[1] - samp_lim[0]\n",
    "\n",
    "    beta_amps = np.zeros((N_trials,N_samps))\n",
    "    for i, t in enumerate(trial_starts):\n",
    "        beta_amps[i] = beta_amp[t+samp_lim[0]:t+samp_lim[1]]\n",
    "        avg_beta_amp = np.mean(beta_amps,axis=0)\n",
    "    sem_beta_amp = sp.stats.sem(beta_amps,axis=0)\n",
    "\n",
    "    return beta_amps,avg_beta_amp,sem_beta_amps\n",
    "    "
   ]
  }
 ],
 "metadata": {
  "kernelspec": {
   "display_name": "Python 3",
   "language": "python",
   "name": "python3"
  },
  "language_info": {
   "codemirror_mode": {
    "name": "ipython",
    "version": 3
   },
   "file_extension": ".py",
   "mimetype": "text/x-python",
   "name": "python",
   "nbconvert_exporter": "python",
   "pygments_lexer": "ipython3",
   "version": "3.6.0"
  }
 },
 "nbformat": 4,
 "nbformat_minor": 2
}
