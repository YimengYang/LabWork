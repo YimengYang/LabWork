{
 "cells": [
  {
   "cell_type": "code",
   "execution_count": null,
   "metadata": {
    "collapsed": false
   },
   "outputs": [],
   "source": [
    "%config InlineBackend.figure_format = 'retina'\n",
    "%matplotlib inline\n",
    "\n",
    "import numpy as np\n",
    "import scipy as sp\n",
    "import pandas as pd\n",
    "import matplotlib.pyplot as plt\n",
    "\n",
    "import seaborn as sns\n",
    "sns.set_style('white')\n",
    "\n",
    "import sys\n",
    "sys.path.append(\"C:/Users/Yimeng/Documents/GitHub/\")\n",
    "from misshapen import shape,nonshape\n",
    "#from neurodsp import shape\n",
    "\n",
    "import util\n",
    "import imp\n",
    "imp.reload(util)\n"
   ]
  },
  {
   "cell_type": "code",
   "execution_count": null,
   "metadata": {
    "collapsed": false
   },
   "outputs": [],
   "source": [
    "Fs = 1000 # sampling rate\n",
    "f_range = (10,30) # frequency range of oscillation of interest\n",
    "\n",
    "df = pd.read_csv('behavior_all.csv',index_col=0)\n",
    "\n",
    "data_paths, all_regions = util.load_paths()\n",
    "print(data_paths)\n",
    "\n",
    "for key in data_paths:\n",
    "    df_subj = df[df['subject']==key]\n",
    "    for i in data_paths[key]['1']:\n",
    "        electrode=i.split('\\\\')[1]\n",
    "        electrode = electrode[:-4]\n",
    "        x = np.load(i) # voltage series\n",
    "        \n",
    "        findpt_kwargs = {'filter_fn':nonshape.bandpass_default,\n",
    "                'filter_kwargs': {'w':3}}\n",
    "        define_true_oscillating_periods_kwargs = {'ampdiff_th':.5, 'timediff_th':.6}\n",
    "        df_P,df_T = shape.compute_shape_by_cycle(x, f_range, Fs,\n",
    "                                          findpt_kwargs=findpt_kwargs,\n",
    "                                          define_true_oscillating_periods_kwargs=define_true_oscillating_periods_kwargs)\n",
    "       \n",
    "        #df_T_filtered=util.cutoff(0,df_T)\n",
    "        df_no_bad_trials = util.drop_bad_trials(df_subj,1500,'delay_start',True,True)\n",
    "        df_no_bad_trials = util.drop_bad_trials(df_subj,2000,'delay_end',True,True)\n",
    "        rdsym,average,sem=util.plot_shape(x,df_T,df_no_bad_trials,-1000,1000,Fs,key,electrode)\n",
    "        print(df_T)\n"
   ]
  },
  {
   "cell_type": "code",
   "execution_count": null,
   "metadata": {
    "collapsed": true
   },
   "outputs": [],
   "source": []
  },
  {
   "cell_type": "code",
   "execution_count": null,
   "metadata": {
    "collapsed": true
   },
   "outputs": [],
   "source": []
  }
 ],
 "metadata": {
  "kernelspec": {
   "display_name": "Python 3",
   "language": "python",
   "name": "python3"
  },
  "language_info": {
   "codemirror_mode": {
    "name": "ipython",
    "version": 3
   },
   "file_extension": ".py",
   "mimetype": "text/x-python",
   "name": "python",
   "nbconvert_exporter": "python",
   "pygments_lexer": "ipython3",
   "version": "3.6.0"
  }
 },
 "nbformat": 4,
 "nbformat_minor": 2
}
