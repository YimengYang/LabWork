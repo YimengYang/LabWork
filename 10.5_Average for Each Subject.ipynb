{
 "cells": [
  {
   "cell_type": "code",
   "execution_count": 31,
   "metadata": {
    "collapsed": false
   },
   "outputs": [],
   "source": [
    "%config InlineBackend.figure_format = 'retina'\n",
    "%matplotlib inline\n",
    "\n",
    "import numpy as np\n",
    "import scipy as sp\n",
    "import pandas as pd\n",
    "import matplotlib.pyplot as plt\n",
    "\n",
    "import seaborn as sns\n",
    "sns.set_style('white')\n",
    "\n",
    "import sys\n",
    "#sys.path.append(\"C:/Users/user/Desktop/ipynb/misshapen/\")\n",
    "sys.path.append(\"C:/Users/Yimeng/Documents/GitHub/\")\n",
    "from neurodsp import shape\n",
    "\n",
    "import util\n",
    "import Process\n",
    "import imp\n",
    "imp.reload(util)\n",
    "imp.reload(Process)\n",
    "from __future__ import print_function\n",
    "from concurrent.futures import ThreadPoolExecutor\n",
    "\n",
    "import os\n",
    "import glob"
   ]
  },
  {
   "cell_type": "code",
   "execution_count": 3,
   "metadata": {
    "collapsed": false
   },
   "outputs": [],
   "source": [
    "data_paths, all_regions = util.load_paths()"
   ]
  },
  {
   "cell_type": "code",
   "execution_count": 4,
   "metadata": {
    "collapsed": false
   },
   "outputs": [],
   "source": [
    "# Help parse the large dataframe into small dataframes according to subject\n",
    "def parseBehaviorDf(dfmove,keys):\n",
    "    behavior_move_all={}\n",
    "    for subj in keys:\n",
    "        behavior_move_all[subj]=dfmove[dfmove['subject']==subj]\n",
    "        behavior_move_all[subj] = behavior_move_all[subj].reset_index(drop=True)\n",
    "    return behavior_move_all\n",
    "\n",
    "def parseElectrode(paths):\n",
    "    electrode=paths.split('\\\\')[1]\n",
    "    return electrode[:-4]\n",
    "\n",
    "def CalculateDFElectrode(elec_signals,f_range=(10,30),Fs=1000):\n",
    "        findpt_kwargs = {'filter_fn':nonshape.bandpass_default,\n",
    "                'filter_kwargs': {'w':3}}\n",
    "        define_true_oscillating_periods_kwargs = {'ampdiff_th':.5, 'timediff_th':.6}\n",
    "        df_P,df_T = shape.compute_shape_by_cycle(elec_signals, f_range, Fs,\n",
    "                                          findpt_kwargs=findpt_kwargs,\n",
    "                                          define_true_oscillating_periods_kwargs=define_true_oscillating_periods_kwargs)\n",
    "       \n",
    "        df_T_part = df_T[['rdsym_time','sample']]\n",
    "        return df_T_part"
   ]
  },
  {
   "cell_type": "code",
   "execution_count": 5,
   "metadata": {
    "collapsed": false
   },
   "outputs": [],
   "source": [
    "dfmove = pd.read_csv('behavior_all.csv',index_col=0)\n",
    "behavior_move_all=parseBehaviorDf(dfmove,all_regions.keys())"
   ]
  },
  {
   "cell_type": "code",
   "execution_count": 6,
   "metadata": {
    "collapsed": false
   },
   "outputs": [],
   "source": [
    "# Get the relation of electrodes and regions for each subject\n",
    "electrode_df_all={}\n",
    "for subj in all_regions.keys():\n",
    "    elecs = []\n",
    "    regions = []\n",
    "    for region in data_paths[subj].keys():\n",
    "        for paths in data_paths[subj][region]:\n",
    "            elecs.append(parseElectrode(paths))\n",
    "            regions.append(region)\n",
    "    electrode_df_all[subj]=pd.DataFrame({'elec':pd.Series(elecs),'region':pd.Series(regions)})\n",
    "    electrode_df_all[subj]['subject']=subj\n",
    "    electrode_df_all[subj].to_csv('./elec-region_'+subj+'.csv')"
   ]
  },
  {
   "cell_type": "code",
   "execution_count": 7,
   "metadata": {
    "collapsed": false
   },
   "outputs": [],
   "source": [
    "def calculate_rdsym_average(behavior_move_all,data_paths,Fs=1000,f_range=(10,30),interval=500,move=True):\n",
    "    tasks=[]\n",
    "    e=ThreadPoolExecutor()\n",
    "    for bmove_each in behavior_move_all.values():\n",
    "        result = e.submit(calculate_rdsym_average_subj,bmove_each,data_paths,Fs,f_range,interval,move)\n",
    "        tasks.append(result)\n",
    "    for task in tasks:\n",
    "        task.result()"
   ]
  },
  {
   "cell_type": "code",
   "execution_count": 32,
   "metadata": {
    "collapsed": false,
    "scrolled": true
   },
   "outputs": [
    {
     "name": "stderr",
     "output_type": "stream",
     "text": [
      "C:\\Users\\Yimeng\\Anaconda3\\lib\\site-packages\\neurodsp\\filt.py:213: UserWarning: Error when trying to estimate transition bandwidth. Visualize filter frequency response using the plot_frequency_response keyword argument to assure filter has appropriate response.\n",
      "  warnings.warn('Error when trying to estimate transition bandwidth. Visualize filter frequency response using the plot_frequency_response keyword argument to assure filter has appropriate response.')\n",
      "C:\\Users\\Yimeng\\Anaconda3\\lib\\site-packages\\neurodsp\\shape\\cyclepoints.py:127: RuntimeWarning: invalid value encountered in less\n",
      "  pos = data < 0\n",
      "C:\\Users\\Yimeng\\Anaconda3\\lib\\site-packages\\neurodsp\\shape\\cyclepoints.py:121: RuntimeWarning: invalid value encountered in greater\n",
      "  pos = data > 0\n"
     ]
    }
   ],
   "source": [
    "util.calculate_rdsym_average(behavior_move_all,data_paths,interval=500,move=True)"
   ]
  },
  {
   "cell_type": "code",
   "execution_count": 35,
   "metadata": {
    "collapsed": false
   },
   "outputs": [],
   "source": [
    "def calculate_rdsym_average_subj(bmove_each,data_paths,Fs=1000,f_range=(10,30),interval=500,move=True):\n",
    "    subj = bmove_each['subject'][0]\n",
    "    move_start=bmove_each['move_start']\n",
    "    move_end=bmove_each['move_end']\n",
    "    dfneural_all_subj=pd.DataFrame({'start_time':move_start,'end_time':move_end})\n",
    "    \n",
    "    for region in data_paths[subj]:\n",
    "        for path in data_paths[subj][region]:\n",
    "            rdsym=[]\n",
    "            electrode = parseElectrode(path)\n",
    "            signal = np.load(path) # voltage series\n",
    "        \n",
    "            signal = Process.preprocess_filters(signal,Fs)\n",
    "            df_electrode = shape.features_by_cycle(signal, Fs, f_range, center_extrema='T' )\n",
    "            df_electrode['subject']=subj\n",
    "            df_electrode.dropna()\n",
    "            for index in range(len(move_start)):\n",
    "                if move:\n",
    "                    trial = df_electrode[(df_electrode['sample_trough']<=move_end[index]) & (df_electrode['sample_trough']>=move_start[index])]\n",
    "                    avg=util.calculate_average(trial,'time_rdsym')\n",
    "                else:\n",
    "                     if index != len(move_start)-1: \n",
    "                        if move_start[index+1]-move_end[index]<2*interval:\n",
    "                            avg=np.nan\n",
    "                        else:\n",
    "                            middle = (move_end[index]+move_start[index+1])/2\n",
    "                            trial= df_electrode[(df_electrode['sample_trough']>=middle-interval) & (df_electrode['sample_trough']<=middle+interval)]\n",
    "                            avg=util.calculate_average(trial,'time_rdsym')\n",
    "                rdsym.append(avg)\n",
    "            rdsym_series=pd.Series(rdsym)\n",
    "    \n",
    "            dfneural_all_subj['rdsym_elec'+electrode]=rdsym_series.values\n",
    "    dfneural_all_subj.reindex_axis(sorted(dfneural_all_subj.columns), axis=1)\n",
    "    if move:\n",
    "        dfneural_all_subj.to_csv('./neural_move_'+subj+'.csv')\n",
    "    else:\n",
    "        dfneural_all_subj.to_csv('./neural_nomove_'+subj+'.csv')"
   ]
  },
  {
   "cell_type": "code",
   "execution_count": 33,
   "metadata": {
    "collapsed": false,
    "scrolled": true
   },
   "outputs": [
    {
     "name": "stderr",
     "output_type": "stream",
     "text": [
      "C:\\Users\\Yimeng\\Anaconda3\\lib\\site-packages\\neurodsp\\filt.py:213: UserWarning: Error when trying to estimate transition bandwidth. Visualize filter frequency response using the plot_frequency_response keyword argument to assure filter has appropriate response.\n",
      "  warnings.warn('Error when trying to estimate transition bandwidth. Visualize filter frequency response using the plot_frequency_response keyword argument to assure filter has appropriate response.')\n",
      "C:\\Users\\Yimeng\\Anaconda3\\lib\\site-packages\\neurodsp\\shape\\cyclepoints.py:127: RuntimeWarning: invalid value encountered in less\n",
      "  pos = data < 0\n",
      "C:\\Users\\Yimeng\\Anaconda3\\lib\\site-packages\\neurodsp\\shape\\cyclepoints.py:121: RuntimeWarning: invalid value encountered in greater\n",
      "  pos = data > 0\n"
     ]
    }
   ],
   "source": [
    "util.calculate_rdsym_average(behavior_move_all,data_paths,interval=500,move=False)"
   ]
  },
  {
   "cell_type": "code",
   "execution_count": 14,
   "metadata": {
    "collapsed": true
   },
   "outputs": [],
   "source": []
  }
 ],
 "metadata": {
  "kernelspec": {
   "display_name": "Python 3",
   "language": "python",
   "name": "python3"
  },
  "language_info": {
   "codemirror_mode": {
    "name": "ipython",
    "version": 3
   },
   "file_extension": ".py",
   "mimetype": "text/x-python",
   "name": "python",
   "nbconvert_exporter": "python",
   "pygments_lexer": "ipython3",
   "version": "3.6.0"
  }
 },
 "nbformat": 4,
 "nbformat_minor": 2
}
