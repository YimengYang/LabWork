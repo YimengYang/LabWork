{
 "cells": [
  {
   "cell_type": "markdown",
   "metadata": {},
   "source": [
    "# Train logistic regression modifier on all subjects"
   ]
  },
  {
   "cell_type": "code",
   "execution_count": 43,
   "metadata": {
    "collapsed": true
   },
   "outputs": [],
   "source": [
    "import pandas as pd\n",
    "import numpy as np\n",
    "import matplotlib.pyplot as plt\n",
    "import util\n",
    "\n",
    "from sklearn import metrics\n",
    "from sklearn import linear_model, datasets\n",
    "from sklearn.model_selection import cross_val_score"
   ]
  },
  {
   "cell_type": "markdown",
   "metadata": {},
   "source": [
    "# Useful function"
   ]
  },
  {
   "cell_type": "code",
   "execution_count": 44,
   "metadata": {
    "collapsed": true
   },
   "outputs": [],
   "source": [
    "def load_move_nomove_each(move_csv, nomove_csv):\n",
    "    \"\"\" Load the movement dataframe and nomovement dataframe and label them\n",
    "    \n",
    "        Parameter:\n",
    "            move_csv (String): The name of the move csv\n",
    "            nomove_csv (String): The name of the nomove csv\n",
    "            \n",
    "        Return:\n",
    "            df (pandas dataframe): The dataframe that has both data labelled\n",
    "    \"\"\"\n",
    "    # Load feature dataframes \n",
    "    dfmove = pd.read_csv(move_csv,index_col=0)\n",
    "    dfnomove = pd.read_csv(nomove_csv,index_col=0)\n",
    "\n",
    "    # Remove non-feature cols\n",
    "    dfmove.drop(['end_time', 'start_time'], axis=1, inplace=True)\n",
    "    dfnomove.drop(['end_time', 'start_time'], axis=1, inplace=True)\n",
    "    \n",
    "    # Set label for each dataframe\n",
    "    dfmove['move']=1\n",
    "    dfnomove['move']=0\n",
    "\n",
    "    # concatenate dfs\n",
    "    df = pd.concat([dfmove, dfnomove])\n",
    "    df.reset_index(inplace=True, drop=True)\n",
    "    df.dropna(inplace=True,axis=0)\n",
    "    return df"
   ]
  },
  {
   "cell_type": "code",
   "execution_count": 46,
   "metadata": {
    "collapsed": false
   },
   "outputs": [],
   "source": [
    "def calculate_test_train_each(df, fold, subj):\n",
    "    \"\"\" Calculate the n-fold cross validation and also calculate the accuracy \n",
    "        on the training set. Print the confusion matrix\n",
    "        \n",
    "        Parameter:\n",
    "            df (pandas dataframe): The data frame for both move and nomove\n",
    "            \n",
    "            fold: The number that we want to calculate for cross validation\n",
    "            \n",
    "            subj: The subject we are calculating for \n",
    "            \n",
    "        Return:\n",
    "            A dictioanry containing the results\n",
    "            A confusion matrix\n",
    "    \"\"\"\n",
    "    \n",
    "    result={}\n",
    "    # get the X and Y to feed log reg\n",
    "    X = df[list(df.keys())[:-1]].values\n",
    "    Y = df['move'].values\n",
    "    \n",
    "    # Caluculate cross validation\n",
    "    logreg = linear_model.LogisticRegression(C=1e5)\n",
    "    scores = cross_val_score(logreg, X, Y, cv=fold)\n",
    "    result['cross_val'] = np.mean(scores) # Average accuracy\n",
    "    \n",
    "    # Calculate Confusion matrix and accuracy on training set\n",
    "    logreg.fit(X,Y)\n",
    "    y_pred = logreg.predict(X)\n",
    "    \n",
    "    result['training']=np.mean(Y==y_pred)\n",
    "    return result, metrics.confusion_matrix(Y, y_pred)"
   ]
  },
  {
   "cell_type": "code",
   "execution_count": 53,
   "metadata": {
    "collapsed": false
   },
   "outputs": [
    {
     "name": "stdout",
     "output_type": "stream",
     "text": [
      "bp\n",
      "[[102  40]\n",
      " [ 35 115]]\n",
      "cc\n",
      "[[111  24]\n",
      " [ 22 128]]\n",
      "ht\n",
      "[[111  28]\n",
      " [ 23 127]]\n",
      "jc\n",
      "[[89 40]\n",
      " [33 98]]\n",
      "jp\n",
      "[[ 45  17]\n",
      " [  9 106]]\n",
      "wc\n",
      "[[ 75  39]\n",
      " [ 30 120]]\n",
      "wm\n",
      "[[48 25]\n",
      " [16 93]]\n",
      "zt\n",
      "[[ 72  36]\n",
      " [ 28 122]]\n"
     ]
    }
   ],
   "source": [
    "# Get all subjects\n",
    "all_subjects = util.get_subjects_all('C:/data2/dg')\n",
    "\n",
    "result_all={}\n",
    "for subj in all_subjects:\n",
    "    move = 'neural_move_'+subj+'.csv'\n",
    "    nomove = 'neural_nomove_'+subj+'.csv'\n",
    "    \n",
    "    df = load_move_nomove_each(move,nomove)\n",
    "    result_each,metric=calculate_cross_val(df,5,subj)\n",
    "    print(subj)\n",
    "    print(metric)\n",
    "    result_all[subj]=result_each\n",
    "    "
   ]
  },
  {
   "cell_type": "code",
   "execution_count": 54,
   "metadata": {
    "collapsed": false
   },
   "outputs": [
    {
     "data": {
      "text/plain": [
       "{'bp': {'cross_val': 0.64061952074810047, 'training': 0.74315068493150682},\n",
       " 'cc': {'cross_val': 0.69473684210526321, 'training': 0.83859649122807023},\n",
       " 'ht': {'cross_val': 0.66448880822746514, 'training': 0.82352941176470584},\n",
       " 'jc': {'cross_val': 0.56117134807478875, 'training': 0.71923076923076923},\n",
       " 'jp': {'cross_val': 0.58158730158730154, 'training': 0.85310734463276838},\n",
       " 'wc': {'cross_val': 0.5456458635703918, 'training': 0.73863636363636365},\n",
       " 'wm': {'cross_val': 0.5227198627198627, 'training': 0.77472527472527475},\n",
       " 'zt': {'cross_val': 0.56990950226244341, 'training': 0.75193798449612403}}"
      ]
     },
     "execution_count": 54,
     "metadata": {},
     "output_type": "execute_result"
    }
   ],
   "source": [
    "result_all"
   ]
  }
 ],
 "metadata": {
  "kernelspec": {
   "display_name": "Python 3",
   "language": "python",
   "name": "python3"
  },
  "language_info": {
   "codemirror_mode": {
    "name": "ipython",
    "version": 3
   },
   "file_extension": ".py",
   "mimetype": "text/x-python",
   "name": "python",
   "nbconvert_exporter": "python",
   "pygments_lexer": "ipython3",
   "version": "3.6.0"
  }
 },
 "nbformat": 4,
 "nbformat_minor": 2
}
