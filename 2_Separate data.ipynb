{
 "cells": [
  {
   "cell_type": "markdown",
   "metadata": {},
   "source": [
    "# Separate data by electrode and finger\n",
    "Data format should be:\n",
    "* data2/dg/subject\n",
    "    * region/electrode/time\n",
    "    * cue\n",
    "    * fingers"
   ]
  },
  {
   "cell_type": "code",
   "execution_count": 4,
   "metadata": {
    "collapsed": true
   },
   "outputs": [],
   "source": [
    "from __future__ import print_function\n",
    "import numpy as np\n",
    "import os\n",
    "from numpy import genfromtxt"
   ]
  },
  {
   "cell_type": "code",
   "execution_count": 10,
   "metadata": {
    "collapsed": true
   },
   "outputs": [],
   "source": [
    "# Define variables to loop through\n",
    "all_subjects = ['bp','cc','zt','jp','ht','mv','wc','wm','jc']\n",
    "all_elec_regions = np.arange(10)\n",
    "all_fingers = np.arange(5)"
   ]
  },
  {
   "cell_type": "code",
   "execution_count": 19,
   "metadata": {
    "collapsed": false
   },
   "outputs": [
    {
     "name": "stdout",
     "output_type": "stream",
     "text": [
      "subject bp\n",
      "cue\n",
      "fingers\n",
      "load ecog\n",
      "save ecog\n",
      "subject cc\n",
      "cue\n",
      "fingers\n",
      "load ecog\n",
      "save ecog\n",
      "subject zt\n",
      "cue\n",
      "fingers\n",
      "load ecog\n",
      "save ecog\n",
      "subject jp\n",
      "cue\n",
      "fingers\n",
      "load ecog\n",
      "save ecog\n",
      "subject ht\n",
      "cue\n",
      "fingers\n",
      "load ecog\n",
      "save ecog\n",
      "subject mv\n",
      "cue\n",
      "fingers\n",
      "load ecog\n",
      "save ecog\n",
      "subject wc\n",
      "cue\n",
      "fingers\n",
      "load ecog\n",
      "save ecog\n",
      "subject wm\n",
      "cue\n",
      "fingers\n",
      "load ecog\n",
      "save ecog\n",
      "subject jc\n",
      "cue\n",
      "fingers\n",
      "load ecog\n",
      "save ecog\n"
     ]
    }
   ],
   "source": [
    "# Define start and end directories\n",
    "dir_start = 'C:/gh/data/kaidigit/csv/'\n",
    "dir_end = 'E:/data2/dg/'\n",
    "\n",
    "# Loop through subjects\n",
    "for s in all_subjects:\n",
    "    print('subject '+s)\n",
    "    \n",
    "    # Make a subject directory if it does not yet exist\n",
    "    if not os.path.exists(dir_end+s):\n",
    "        os.makedirs(dir_end+s)\n",
    "        \n",
    "    # resave cue data\n",
    "    data_cue = genfromtxt(dir_start+s+'_cue.csv', delimiter=',')\n",
    "    np.save(dir_end+s+'/cue.npy', data_cue)\n",
    "    print('cue')\n",
    "    \n",
    "    # Save finger data\n",
    "    data_finger = genfromtxt(dir_start+s+'_dataglove.csv', delimiter=',')\n",
    "    for i in range(np.shape(data_finger)[0]):\n",
    "        np.save(dir_end+s+'/finger'+str(i)+'.npy', data_finger[i])\n",
    "    print('fingers')\n",
    "        \n",
    "    # Load ecog and location data\n",
    "    data_regions = genfromtxt(dir_start+s+'_elecregions.csv', delimiter=',')\n",
    "    data_ecog = genfromtxt(dir_start+s+'_ecog.csv', delimiter=',')\n",
    "    print('load ecog')\n",
    "    \n",
    "    # For each region, save that ecog channel\n",
    "    for i in range(len(data_regions)):\n",
    "        # Determine channel location\n",
    "        chan_loc = int(data_regions[i])\n",
    "        \n",
    "        # Create a folder for that channel location if does not already exist\n",
    "        if not os.path.exists(dir_end+s+'/'+str(chan_loc)):\n",
    "            os.makedirs(dir_end+s+'/'+str(chan_loc))\n",
    "            \n",
    "        # Save the channel\n",
    "        np.save(dir_end+s+'/'+str(chan_loc)+'/'+str(i)+'.npy', data_ecog[i])\n",
    "        \n",
    "    print('save ecog')"
   ]
  }
 ],
 "metadata": {
  "anaconda-cloud": {},
  "kernelspec": {
   "display_name": "Python [default]",
   "language": "python",
   "name": "python3"
  },
  "language_info": {
   "codemirror_mode": {
    "name": "ipython",
    "version": 3
   },
   "file_extension": ".py",
   "mimetype": "text/x-python",
   "name": "python",
   "nbconvert_exporter": "python",
   "pygments_lexer": "ipython3",
   "version": "3.5.2"
  }
 },
 "nbformat": 4,
 "nbformat_minor": 1
}
